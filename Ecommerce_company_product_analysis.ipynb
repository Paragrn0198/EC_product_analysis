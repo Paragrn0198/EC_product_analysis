{
 "cells": [
  {
   "cell_type": "markdown",
   "id": "1c3e3f0c",
   "metadata": {},
   "source": [
    "## Ecommerce company product analysis"
   ]
  },
  {
   "cell_type": "code",
   "execution_count": 2,
   "id": "f8d32434",
   "metadata": {},
   "outputs": [],
   "source": [
    "import pandas as pd \n",
    "import numpy as np \n",
    "import seaborn as sns\n",
    "import matplotlib.pyplot as plt"
   ]
  },
  {
   "cell_type": "code",
   "execution_count": 3,
   "id": "aa973b00",
   "metadata": {},
   "outputs": [
    {
     "data": {
      "text/html": [
       "<div>\n",
       "<style scoped>\n",
       "    .dataframe tbody tr th:only-of-type {\n",
       "        vertical-align: middle;\n",
       "    }\n",
       "\n",
       "    .dataframe tbody tr th {\n",
       "        vertical-align: top;\n",
       "    }\n",
       "\n",
       "    .dataframe thead th {\n",
       "        text-align: right;\n",
       "    }\n",
       "</style>\n",
       "<table border=\"1\" class=\"dataframe\">\n",
       "  <thead>\n",
       "    <tr style=\"text-align: right;\">\n",
       "      <th></th>\n",
       "      <th>category_1</th>\n",
       "      <th>category_2</th>\n",
       "      <th>category_3</th>\n",
       "      <th>title</th>\n",
       "      <th>product_rating</th>\n",
       "      <th>selling_price</th>\n",
       "      <th>mrp</th>\n",
       "      <th>seller_name</th>\n",
       "      <th>seller_rating</th>\n",
       "      <th>description</th>\n",
       "      <th>highlights</th>\n",
       "      <th>image_links</th>\n",
       "    </tr>\n",
       "  </thead>\n",
       "  <tbody>\n",
       "    <tr>\n",
       "      <th>0</th>\n",
       "      <td>Sports, Books and More</td>\n",
       "      <td>Sports</td>\n",
       "      <td>Cricket</td>\n",
       "      <td>ITWOSERVICES CRICKET NET 100X10 CRICKET NET NY...</td>\n",
       "      <td>4.4</td>\n",
       "      <td>₹1,615</td>\n",
       "      <td>₹4,000</td>\n",
       "      <td>I2SERVICES</td>\n",
       "      <td>4.4</td>\n",
       "      <td>NaN</td>\n",
       "      <td>Cricket Practice Net NYLON HDPE Material W x H...</td>\n",
       "      <td>https://rukminim1.flixcart.com/image/612/612/x...</td>\n",
       "    </tr>\n",
       "    <tr>\n",
       "      <th>1</th>\n",
       "      <td>Sports, Books and More</td>\n",
       "      <td>Sports</td>\n",
       "      <td>Cricket</td>\n",
       "      <td>ITWOSERVICES CRICKET NET GROUND BOUNDARY NET 1...</td>\n",
       "      <td>4.4</td>\n",
       "      <td>₹152</td>\n",
       "      <td>₹600</td>\n",
       "      <td>I2SERVICES</td>\n",
       "      <td>4.4</td>\n",
       "      <td>10 X  10 GREEN CRICKET NET HDPE NYLON.</td>\n",
       "      <td>Cricket HDPE NYLON Material W x H x D: 3.048 x...</td>\n",
       "      <td>https://rukminim1.flixcart.com/image/612/612/x...</td>\n",
       "    </tr>\n",
       "  </tbody>\n",
       "</table>\n",
       "</div>"
      ],
      "text/plain": [
       "               category_1 category_2 category_3  \\\n",
       "0  Sports, Books and More     Sports   Cricket    \n",
       "1  Sports, Books and More     Sports   Cricket    \n",
       "\n",
       "                                               title  product_rating  \\\n",
       "0  ITWOSERVICES CRICKET NET 100X10 CRICKET NET NY...             4.4   \n",
       "1  ITWOSERVICES CRICKET NET GROUND BOUNDARY NET 1...             4.4   \n",
       "\n",
       "  selling_price     mrp seller_name  seller_rating  \\\n",
       "0        ₹1,615  ₹4,000  I2SERVICES            4.4   \n",
       "1          ₹152    ₹600  I2SERVICES            4.4   \n",
       "\n",
       "                              description  \\\n",
       "0                                     NaN   \n",
       "1  10 X  10 GREEN CRICKET NET HDPE NYLON.   \n",
       "\n",
       "                                          highlights  \\\n",
       "0  Cricket Practice Net NYLON HDPE Material W x H...   \n",
       "1  Cricket HDPE NYLON Material W x H x D: 3.048 x...   \n",
       "\n",
       "                                         image_links  \n",
       "0  https://rukminim1.flixcart.com/image/612/612/x...  \n",
       "1  https://rukminim1.flixcart.com/image/612/612/x...  "
      ]
     },
     "execution_count": 3,
     "metadata": {},
     "output_type": "execute_result"
    }
   ],
   "source": [
    "df = pd.read_csv('EC_product.csv')\n",
    "df.head(2)"
   ]
  },
  {
   "cell_type": "code",
   "execution_count": 4,
   "id": "6bb5e3e2",
   "metadata": {},
   "outputs": [
    {
     "data": {
      "text/plain": [
       "(12041, 12)"
      ]
     },
     "execution_count": 4,
     "metadata": {},
     "output_type": "execute_result"
    }
   ],
   "source": [
    "df.shape"
   ]
  },
  {
   "cell_type": "code",
   "execution_count": 5,
   "id": "f1f1770e",
   "metadata": {},
   "outputs": [
    {
     "name": "stdout",
     "output_type": "stream",
     "text": [
      "<class 'pandas.core.frame.DataFrame'>\n",
      "RangeIndex: 12041 entries, 0 to 12040\n",
      "Data columns (total 12 columns):\n",
      " #   Column          Non-Null Count  Dtype  \n",
      "---  ------          --------------  -----  \n",
      " 0   category_1      12041 non-null  object \n",
      " 1   category_2      12041 non-null  object \n",
      " 2   category_3      12041 non-null  object \n",
      " 3   title           12023 non-null  object \n",
      " 4   product_rating  11961 non-null  float64\n",
      " 5   selling_price   12013 non-null  object \n",
      " 6   mrp             11666 non-null  object \n",
      " 7   seller_name     11825 non-null  object \n",
      " 8   seller_rating   11827 non-null  float64\n",
      " 9   description     5021 non-null   object \n",
      " 10  highlights      6560 non-null   object \n",
      " 11  image_links     12041 non-null  object \n",
      "dtypes: float64(2), object(10)\n",
      "memory usage: 1.1+ MB\n"
     ]
    }
   ],
   "source": [
    "df.info()"
   ]
  },
  {
   "cell_type": "code",
   "execution_count": 6,
   "id": "74a2506c",
   "metadata": {},
   "outputs": [
    {
     "data": {
      "text/html": [
       "<div>\n",
       "<style scoped>\n",
       "    .dataframe tbody tr th:only-of-type {\n",
       "        vertical-align: middle;\n",
       "    }\n",
       "\n",
       "    .dataframe tbody tr th {\n",
       "        vertical-align: top;\n",
       "    }\n",
       "\n",
       "    .dataframe thead th {\n",
       "        text-align: right;\n",
       "    }\n",
       "</style>\n",
       "<table border=\"1\" class=\"dataframe\">\n",
       "  <thead>\n",
       "    <tr style=\"text-align: right;\">\n",
       "      <th></th>\n",
       "      <th>product_rating</th>\n",
       "      <th>seller_rating</th>\n",
       "    </tr>\n",
       "  </thead>\n",
       "  <tbody>\n",
       "    <tr>\n",
       "      <th>count</th>\n",
       "      <td>11961.000000</td>\n",
       "      <td>11827.000000</td>\n",
       "    </tr>\n",
       "    <tr>\n",
       "      <th>mean</th>\n",
       "      <td>4.061617</td>\n",
       "      <td>4.394538</td>\n",
       "    </tr>\n",
       "    <tr>\n",
       "      <th>std</th>\n",
       "      <td>0.345575</td>\n",
       "      <td>0.404288</td>\n",
       "    </tr>\n",
       "    <tr>\n",
       "      <th>min</th>\n",
       "      <td>1.000000</td>\n",
       "      <td>3.000000</td>\n",
       "    </tr>\n",
       "    <tr>\n",
       "      <th>25%</th>\n",
       "      <td>3.900000</td>\n",
       "      <td>4.100000</td>\n",
       "    </tr>\n",
       "    <tr>\n",
       "      <th>50%</th>\n",
       "      <td>4.100000</td>\n",
       "      <td>4.400000</td>\n",
       "    </tr>\n",
       "    <tr>\n",
       "      <th>75%</th>\n",
       "      <td>4.300000</td>\n",
       "      <td>4.700000</td>\n",
       "    </tr>\n",
       "    <tr>\n",
       "      <th>max</th>\n",
       "      <td>5.000000</td>\n",
       "      <td>5.000000</td>\n",
       "    </tr>\n",
       "  </tbody>\n",
       "</table>\n",
       "</div>"
      ],
      "text/plain": [
       "       product_rating  seller_rating\n",
       "count    11961.000000   11827.000000\n",
       "mean         4.061617       4.394538\n",
       "std          0.345575       0.404288\n",
       "min          1.000000       3.000000\n",
       "25%          3.900000       4.100000\n",
       "50%          4.100000       4.400000\n",
       "75%          4.300000       4.700000\n",
       "max          5.000000       5.000000"
      ]
     },
     "execution_count": 6,
     "metadata": {},
     "output_type": "execute_result"
    }
   ],
   "source": [
    "df.describe()"
   ]
  },
  {
   "cell_type": "code",
   "execution_count": 7,
   "id": "4c711a4b",
   "metadata": {},
   "outputs": [
    {
     "data": {
      "text/plain": [
       "category_1         object\n",
       "category_2         object\n",
       "category_3         object\n",
       "title              object\n",
       "product_rating    float64\n",
       "selling_price      object\n",
       "mrp                object\n",
       "seller_name        object\n",
       "seller_rating     float64\n",
       "description        object\n",
       "highlights         object\n",
       "image_links        object\n",
       "dtype: object"
      ]
     },
     "execution_count": 7,
     "metadata": {},
     "output_type": "execute_result"
    }
   ],
   "source": [
    "df.dtypes"
   ]
  },
  {
   "cell_type": "markdown",
   "id": "de96fe9c",
   "metadata": {},
   "source": [
    "# Dropping unnecesarry column"
   ]
  },
  {
   "cell_type": "code",
   "execution_count": 8,
   "id": "079ec12d",
   "metadata": {},
   "outputs": [],
   "source": [
    "df.drop(['image_links','description','highlights'],axis=1, inplace=True)"
   ]
  },
  {
   "cell_type": "code",
   "execution_count": 9,
   "id": "3a6c837c",
   "metadata": {},
   "outputs": [
    {
     "data": {
      "text/plain": [
       "(12041, 9)"
      ]
     },
     "execution_count": 9,
     "metadata": {},
     "output_type": "execute_result"
    }
   ],
   "source": [
    "df.shape"
   ]
  },
  {
   "cell_type": "code",
   "execution_count": 10,
   "id": "b163be36",
   "metadata": {},
   "outputs": [
    {
     "data": {
      "text/plain": [
       "category_1          0\n",
       "category_2          0\n",
       "category_3          0\n",
       "title              18\n",
       "product_rating     80\n",
       "selling_price      28\n",
       "mrp               375\n",
       "seller_name       216\n",
       "seller_rating     214\n",
       "dtype: int64"
      ]
     },
     "execution_count": 10,
     "metadata": {},
     "output_type": "execute_result"
    }
   ],
   "source": [
    "df.isnull().sum()                           #checking null values"
   ]
  },
  {
   "cell_type": "markdown",
   "id": "8d1947f1",
   "metadata": {},
   "source": [
    "# Null value treatment\n",
    "## Title"
   ]
  },
  {
   "cell_type": "code",
   "execution_count": 11,
   "id": "db8f9cba",
   "metadata": {},
   "outputs": [
    {
     "data": {
      "text/html": [
       "<div>\n",
       "<style scoped>\n",
       "    .dataframe tbody tr th:only-of-type {\n",
       "        vertical-align: middle;\n",
       "    }\n",
       "\n",
       "    .dataframe tbody tr th {\n",
       "        vertical-align: top;\n",
       "    }\n",
       "\n",
       "    .dataframe thead th {\n",
       "        text-align: right;\n",
       "    }\n",
       "</style>\n",
       "<table border=\"1\" class=\"dataframe\">\n",
       "  <thead>\n",
       "    <tr style=\"text-align: right;\">\n",
       "      <th></th>\n",
       "      <th>category_1</th>\n",
       "      <th>category_2</th>\n",
       "      <th>category_3</th>\n",
       "      <th>title</th>\n",
       "      <th>product_rating</th>\n",
       "      <th>selling_price</th>\n",
       "      <th>mrp</th>\n",
       "      <th>seller_name</th>\n",
       "      <th>seller_rating</th>\n",
       "    </tr>\n",
       "  </thead>\n",
       "  <tbody>\n",
       "    <tr>\n",
       "      <th>310</th>\n",
       "      <td>Sports, Books and More</td>\n",
       "      <td>Exercise Fitness</td>\n",
       "      <td>Cardio Equipment</td>\n",
       "      <td>NaN</td>\n",
       "      <td>NaN</td>\n",
       "      <td>NaN</td>\n",
       "      <td>NaN</td>\n",
       "      <td>NaN</td>\n",
       "      <td>NaN</td>\n",
       "    </tr>\n",
       "    <tr>\n",
       "      <th>681</th>\n",
       "      <td>Sports, Books and More</td>\n",
       "      <td>Food Essentials</td>\n",
       "      <td>Chocolates</td>\n",
       "      <td>NaN</td>\n",
       "      <td>NaN</td>\n",
       "      <td>NaN</td>\n",
       "      <td>NaN</td>\n",
       "      <td>NaN</td>\n",
       "      <td>NaN</td>\n",
       "    </tr>\n",
       "    <tr>\n",
       "      <th>1578</th>\n",
       "      <td>Sports, Books and More</td>\n",
       "      <td>Industrial &amp;Scientific tools</td>\n",
       "      <td>Packaging and Shipping Products</td>\n",
       "      <td>NaN</td>\n",
       "      <td>NaN</td>\n",
       "      <td>NaN</td>\n",
       "      <td>NaN</td>\n",
       "      <td>NaN</td>\n",
       "      <td>NaN</td>\n",
       "    </tr>\n",
       "    <tr>\n",
       "      <th>1936</th>\n",
       "      <td>Electronics</td>\n",
       "      <td>Mobile Accessories</td>\n",
       "      <td>Screenguards</td>\n",
       "      <td>NaN</td>\n",
       "      <td>NaN</td>\n",
       "      <td>NaN</td>\n",
       "      <td>NaN</td>\n",
       "      <td>NaN</td>\n",
       "      <td>NaN</td>\n",
       "    </tr>\n",
       "    <tr>\n",
       "      <th>2164</th>\n",
       "      <td>Electronics</td>\n",
       "      <td>Smart Wearable Tech</td>\n",
       "      <td>Smart Watches</td>\n",
       "      <td>NaN</td>\n",
       "      <td>NaN</td>\n",
       "      <td>NaN</td>\n",
       "      <td>NaN</td>\n",
       "      <td>NaN</td>\n",
       "      <td>NaN</td>\n",
       "    </tr>\n",
       "  </tbody>\n",
       "</table>\n",
       "</div>"
      ],
      "text/plain": [
       "                  category_1                     category_2  \\\n",
       "310   Sports, Books and More              Exercise Fitness    \n",
       "681   Sports, Books and More                Food Essentials   \n",
       "1578  Sports, Books and More  Industrial &Scientific tools    \n",
       "1936             Electronics             Mobile Accessories   \n",
       "2164             Electronics            Smart Wearable Tech   \n",
       "\n",
       "                            category_3 title  product_rating selling_price  \\\n",
       "310                  Cardio Equipment    NaN             NaN           NaN   \n",
       "681                        Chocolates    NaN             NaN           NaN   \n",
       "1578  Packaging and Shipping Products    NaN             NaN           NaN   \n",
       "1936                      Screenguards   NaN             NaN           NaN   \n",
       "2164                     Smart Watches   NaN             NaN           NaN   \n",
       "\n",
       "      mrp seller_name  seller_rating  \n",
       "310   NaN         NaN            NaN  \n",
       "681   NaN         NaN            NaN  \n",
       "1578  NaN         NaN            NaN  \n",
       "1936  NaN         NaN            NaN  \n",
       "2164  NaN         NaN            NaN  "
      ]
     },
     "execution_count": 11,
     "metadata": {},
     "output_type": "execute_result"
    }
   ],
   "source": [
    "df[df['title'].isnull()].head()"
   ]
  },
  {
   "cell_type": "code",
   "execution_count": 12,
   "id": "92f6b9d0",
   "metadata": {},
   "outputs": [],
   "source": [
    "df['title'].fillna('other',inplace=True)         #filling null values of title."
   ]
  },
  {
   "cell_type": "code",
   "execution_count": 13,
   "id": "bd0ba4e5",
   "metadata": {},
   "outputs": [
    {
     "data": {
      "text/plain": [
       "0"
      ]
     },
     "execution_count": 13,
     "metadata": {},
     "output_type": "execute_result"
    }
   ],
   "source": [
    "df.title.isnull().sum()"
   ]
  },
  {
   "cell_type": "markdown",
   "id": "b086671a",
   "metadata": {},
   "source": [
    "## Product rating"
   ]
  },
  {
   "cell_type": "code",
   "execution_count": 14,
   "id": "1e57b5b7",
   "metadata": {},
   "outputs": [
    {
     "data": {
      "text/html": [
       "<div>\n",
       "<style scoped>\n",
       "    .dataframe tbody tr th:only-of-type {\n",
       "        vertical-align: middle;\n",
       "    }\n",
       "\n",
       "    .dataframe tbody tr th {\n",
       "        vertical-align: top;\n",
       "    }\n",
       "\n",
       "    .dataframe thead th {\n",
       "        text-align: right;\n",
       "    }\n",
       "</style>\n",
       "<table border=\"1\" class=\"dataframe\">\n",
       "  <thead>\n",
       "    <tr style=\"text-align: right;\">\n",
       "      <th></th>\n",
       "      <th>category_1</th>\n",
       "      <th>category_2</th>\n",
       "      <th>category_3</th>\n",
       "      <th>title</th>\n",
       "      <th>product_rating</th>\n",
       "      <th>selling_price</th>\n",
       "      <th>mrp</th>\n",
       "      <th>seller_name</th>\n",
       "      <th>seller_rating</th>\n",
       "    </tr>\n",
       "  </thead>\n",
       "  <tbody>\n",
       "    <tr>\n",
       "      <th>310</th>\n",
       "      <td>Sports, Books and More</td>\n",
       "      <td>Exercise Fitness</td>\n",
       "      <td>Cardio Equipment</td>\n",
       "      <td>other</td>\n",
       "      <td>NaN</td>\n",
       "      <td>NaN</td>\n",
       "      <td>NaN</td>\n",
       "      <td>NaN</td>\n",
       "      <td>NaN</td>\n",
       "    </tr>\n",
       "    <tr>\n",
       "      <th>607</th>\n",
       "      <td>Sports, Books and More</td>\n",
       "      <td>Food Essentials</td>\n",
       "      <td>Nuts and Dry Fruits</td>\n",
       "      <td>HERBALIFE Weight Loss Combo pack Formula 1 + P...</td>\n",
       "      <td>NaN</td>\n",
       "      <td>₹2,710</td>\n",
       "      <td>₹4,476</td>\n",
       "      <td>NaN</td>\n",
       "      <td>NaN</td>\n",
       "    </tr>\n",
       "    <tr>\n",
       "      <th>681</th>\n",
       "      <td>Sports, Books and More</td>\n",
       "      <td>Food Essentials</td>\n",
       "      <td>Chocolates</td>\n",
       "      <td>other</td>\n",
       "      <td>NaN</td>\n",
       "      <td>NaN</td>\n",
       "      <td>NaN</td>\n",
       "      <td>NaN</td>\n",
       "      <td>NaN</td>\n",
       "    </tr>\n",
       "    <tr>\n",
       "      <th>721</th>\n",
       "      <td>Sports, Books and More</td>\n",
       "      <td>Food Essentials</td>\n",
       "      <td>Gifting Combos</td>\n",
       "      <td>HERBALIFE Weight Loss Combo pack Formula 1 + P...</td>\n",
       "      <td>NaN</td>\n",
       "      <td>₹2,710</td>\n",
       "      <td>₹4,476</td>\n",
       "      <td>NaN</td>\n",
       "      <td>NaN</td>\n",
       "    </tr>\n",
       "    <tr>\n",
       "      <th>1438</th>\n",
       "      <td>Sports, Books and More</td>\n",
       "      <td>Industrial &amp;Scientific tools</td>\n",
       "      <td>Industrial Measurement Devices</td>\n",
       "      <td>DTTOOLS 25~50mm Micrometer Outside Screw Gauge...</td>\n",
       "      <td>NaN</td>\n",
       "      <td>₹889</td>\n",
       "      <td>₹1,099</td>\n",
       "      <td>NaN</td>\n",
       "      <td>NaN</td>\n",
       "    </tr>\n",
       "  </tbody>\n",
       "</table>\n",
       "</div>"
      ],
      "text/plain": [
       "                  category_1                     category_2  \\\n",
       "310   Sports, Books and More              Exercise Fitness    \n",
       "607   Sports, Books and More                Food Essentials   \n",
       "681   Sports, Books and More                Food Essentials   \n",
       "721   Sports, Books and More                Food Essentials   \n",
       "1438  Sports, Books and More  Industrial &Scientific tools    \n",
       "\n",
       "                           category_3  \\\n",
       "310                 Cardio Equipment    \n",
       "607              Nuts and Dry Fruits    \n",
       "681                       Chocolates    \n",
       "721                   Gifting Combos    \n",
       "1438  Industrial Measurement Devices    \n",
       "\n",
       "                                                  title  product_rating  \\\n",
       "310                                               other             NaN   \n",
       "607   HERBALIFE Weight Loss Combo pack Formula 1 + P...             NaN   \n",
       "681                                               other             NaN   \n",
       "721   HERBALIFE Weight Loss Combo pack Formula 1 + P...             NaN   \n",
       "1438  DTTOOLS 25~50mm Micrometer Outside Screw Gauge...             NaN   \n",
       "\n",
       "     selling_price     mrp seller_name  seller_rating  \n",
       "310            NaN     NaN         NaN            NaN  \n",
       "607         ₹2,710  ₹4,476         NaN            NaN  \n",
       "681            NaN     NaN         NaN            NaN  \n",
       "721         ₹2,710  ₹4,476         NaN            NaN  \n",
       "1438          ₹889  ₹1,099         NaN            NaN  "
      ]
     },
     "execution_count": 14,
     "metadata": {},
     "output_type": "execute_result"
    }
   ],
   "source": [
    "df[df.product_rating.isnull()].head()"
   ]
  },
  {
   "cell_type": "code",
   "execution_count": 15,
   "id": "3c902fe7",
   "metadata": {},
   "outputs": [
    {
     "data": {
      "text/plain": [
       "80"
      ]
     },
     "execution_count": 15,
     "metadata": {},
     "output_type": "execute_result"
    }
   ],
   "source": [
    "df.product_rating.isnull().sum()"
   ]
  },
  {
   "cell_type": "code",
   "execution_count": 16,
   "id": "f0fc3168",
   "metadata": {},
   "outputs": [
    {
     "data": {
      "text/plain": [
       "array([4.4, 3.7, 3.8, 3.4, 3.5, 4.1, 4. , 3.9, 4.3, 4.8, 3.6, 3.3, 4.2,\n",
       "       4.9, 4.5, 1. , 4.6, 5. , 2.6, 3. , 2.8, nan, 4.7, 3.2, 2.9, 2.7,\n",
       "       2.3, 3.1, 2.4, 2. , 2.5, 2.1, 2.2, 1.4])"
      ]
     },
     "execution_count": 16,
     "metadata": {},
     "output_type": "execute_result"
    }
   ],
   "source": [
    "df.product_rating.unique()"
   ]
  },
  {
   "cell_type": "code",
   "execution_count": 17,
   "id": "696f2631",
   "metadata": {},
   "outputs": [
    {
     "data": {
      "text/plain": [
       "0    4.0\n",
       "dtype: float64"
      ]
     },
     "execution_count": 17,
     "metadata": {},
     "output_type": "execute_result"
    }
   ],
   "source": [
    "mode=df.product_rating.mode()\n",
    "mode"
   ]
  },
  {
   "cell_type": "code",
   "execution_count": 18,
   "id": "0454d1cb",
   "metadata": {},
   "outputs": [],
   "source": [
    "df['product_rating'].fillna(4.0,inplace=True)"
   ]
  },
  {
   "cell_type": "code",
   "execution_count": 19,
   "id": "617c12f5",
   "metadata": {},
   "outputs": [
    {
     "data": {
      "text/plain": [
       "0"
      ]
     },
     "execution_count": 19,
     "metadata": {},
     "output_type": "execute_result"
    }
   ],
   "source": [
    "df.product_rating.isnull().sum()"
   ]
  },
  {
   "cell_type": "markdown",
   "id": "3305ba28",
   "metadata": {},
   "source": [
    "## Sellling_price"
   ]
  },
  {
   "cell_type": "code",
   "execution_count": 20,
   "id": "3734362d",
   "metadata": {},
   "outputs": [
    {
     "data": {
      "text/plain": [
       "0        ₹1,615\n",
       "1          ₹152\n",
       "2           ₹59\n",
       "3           ₹75\n",
       "4          ₹329\n",
       "          ...  \n",
       "12036      ₹380\n",
       "12037      ₹179\n",
       "12038      ₹354\n",
       "12039      ₹498\n",
       "12040      ₹239\n",
       "Name: selling_price, Length: 12041, dtype: object"
      ]
     },
     "execution_count": 20,
     "metadata": {},
     "output_type": "execute_result"
    }
   ],
   "source": [
    "df.selling_price"
   ]
  },
  {
   "cell_type": "code",
   "execution_count": 21,
   "id": "9121f6e7",
   "metadata": {},
   "outputs": [
    {
     "data": {
      "text/plain": [
       "28"
      ]
     },
     "execution_count": 21,
     "metadata": {},
     "output_type": "execute_result"
    }
   ],
   "source": [
    "df['selling_price'].isnull().sum()"
   ]
  },
  {
   "cell_type": "code",
   "execution_count": 22,
   "id": "71b0e1b5",
   "metadata": {},
   "outputs": [
    {
     "data": {
      "text/plain": [
       "0    ₹299\n",
       "dtype: object"
      ]
     },
     "execution_count": 22,
     "metadata": {},
     "output_type": "execute_result"
    }
   ],
   "source": [
    "df.selling_price.mode()"
   ]
  },
  {
   "cell_type": "code",
   "execution_count": 23,
   "id": "1874582c",
   "metadata": {},
   "outputs": [],
   "source": [
    "df['selling_price'].fillna('₹299', inplace=True)"
   ]
  },
  {
   "cell_type": "code",
   "execution_count": 24,
   "id": "f072ec32",
   "metadata": {},
   "outputs": [
    {
     "data": {
      "text/plain": [
       "0"
      ]
     },
     "execution_count": 24,
     "metadata": {},
     "output_type": "execute_result"
    }
   ],
   "source": [
    "df.selling_price.isnull().sum()"
   ]
  },
  {
   "cell_type": "markdown",
   "id": "d733d142",
   "metadata": {},
   "source": [
    "## MRP"
   ]
  },
  {
   "cell_type": "code",
   "execution_count": 25,
   "id": "be33b8f3",
   "metadata": {},
   "outputs": [
    {
     "data": {
      "text/plain": [
       "0        ₹4,000\n",
       "1          ₹600\n",
       "2          ₹199\n",
       "3          ₹299\n",
       "4        ₹1,399\n",
       "          ...  \n",
       "12036      ₹999\n",
       "12037      ₹299\n",
       "12038      ₹600\n",
       "12039      ₹599\n",
       "12040      ₹399\n",
       "Name: mrp, Length: 12041, dtype: object"
      ]
     },
     "execution_count": 25,
     "metadata": {},
     "output_type": "execute_result"
    }
   ],
   "source": [
    "df.mrp"
   ]
  },
  {
   "cell_type": "code",
   "execution_count": 26,
   "id": "15984446",
   "metadata": {},
   "outputs": [
    {
     "data": {
      "text/plain": [
       "375"
      ]
     },
     "execution_count": 26,
     "metadata": {},
     "output_type": "execute_result"
    }
   ],
   "source": [
    "df.mrp.isnull().sum()"
   ]
  },
  {
   "cell_type": "code",
   "execution_count": 27,
   "id": "ac6bb129",
   "metadata": {},
   "outputs": [
    {
     "data": {
      "text/plain": [
       "dtype('O')"
      ]
     },
     "execution_count": 27,
     "metadata": {},
     "output_type": "execute_result"
    }
   ],
   "source": [
    "df.mrp.dtype"
   ]
  },
  {
   "cell_type": "code",
   "execution_count": 28,
   "id": "764de391",
   "metadata": {},
   "outputs": [
    {
     "data": {
      "text/plain": [
       "0    ₹999\n",
       "dtype: object"
      ]
     },
     "execution_count": 28,
     "metadata": {},
     "output_type": "execute_result"
    }
   ],
   "source": [
    "df['mrp'].mode()"
   ]
  },
  {
   "cell_type": "code",
   "execution_count": 29,
   "id": "4a6080bc",
   "metadata": {},
   "outputs": [],
   "source": [
    "df['mrp'].fillna('₹999', inplace=True)"
   ]
  },
  {
   "cell_type": "code",
   "execution_count": 30,
   "id": "d76daf22",
   "metadata": {},
   "outputs": [
    {
     "data": {
      "text/plain": [
       "0"
      ]
     },
     "execution_count": 30,
     "metadata": {},
     "output_type": "execute_result"
    }
   ],
   "source": [
    "df.mrp.isnull().sum()"
   ]
  },
  {
   "cell_type": "markdown",
   "id": "cc50dc8a",
   "metadata": {},
   "source": [
    "## Seller_name"
   ]
  },
  {
   "cell_type": "code",
   "execution_count": 31,
   "id": "5e303a00",
   "metadata": {},
   "outputs": [
    {
     "data": {
      "text/plain": [
       "216"
      ]
     },
     "execution_count": 31,
     "metadata": {},
     "output_type": "execute_result"
    }
   ],
   "source": [
    "df.seller_name.isnull().sum()"
   ]
  },
  {
   "cell_type": "code",
   "execution_count": 32,
   "id": "6372a333",
   "metadata": {},
   "outputs": [
    {
     "data": {
      "text/plain": [
       "0    RetailNet\n",
       "dtype: object"
      ]
     },
     "execution_count": 32,
     "metadata": {},
     "output_type": "execute_result"
    }
   ],
   "source": [
    "df.seller_name.mode()"
   ]
  },
  {
   "cell_type": "code",
   "execution_count": 33,
   "id": "385adfa4",
   "metadata": {},
   "outputs": [],
   "source": [
    "df.seller_name.fillna('RetailNet',inplace=True)"
   ]
  },
  {
   "cell_type": "markdown",
   "id": "78461212",
   "metadata": {},
   "source": [
    "## seller_rating"
   ]
  },
  {
   "cell_type": "code",
   "execution_count": 34,
   "id": "9efa17a8",
   "metadata": {},
   "outputs": [
    {
     "data": {
      "text/html": [
       "<div>\n",
       "<style scoped>\n",
       "    .dataframe tbody tr th:only-of-type {\n",
       "        vertical-align: middle;\n",
       "    }\n",
       "\n",
       "    .dataframe tbody tr th {\n",
       "        vertical-align: top;\n",
       "    }\n",
       "\n",
       "    .dataframe thead th {\n",
       "        text-align: right;\n",
       "    }\n",
       "</style>\n",
       "<table border=\"1\" class=\"dataframe\">\n",
       "  <thead>\n",
       "    <tr style=\"text-align: right;\">\n",
       "      <th></th>\n",
       "      <th>category_1</th>\n",
       "      <th>category_2</th>\n",
       "      <th>category_3</th>\n",
       "      <th>title</th>\n",
       "      <th>product_rating</th>\n",
       "      <th>selling_price</th>\n",
       "      <th>mrp</th>\n",
       "      <th>seller_name</th>\n",
       "      <th>seller_rating</th>\n",
       "    </tr>\n",
       "  </thead>\n",
       "  <tbody>\n",
       "    <tr>\n",
       "      <th>40</th>\n",
       "      <td>Sports, Books and More</td>\n",
       "      <td>Sports</td>\n",
       "      <td>Badminton</td>\n",
       "      <td>VICTOO SPORTS VICTOO PROFESIONAL BADMINTON Bad...</td>\n",
       "      <td>3.8</td>\n",
       "      <td>₹335</td>\n",
       "      <td>₹600</td>\n",
       "      <td>RetailNet</td>\n",
       "      <td>NaN</td>\n",
       "    </tr>\n",
       "    <tr>\n",
       "      <th>310</th>\n",
       "      <td>Sports, Books and More</td>\n",
       "      <td>Exercise Fitness</td>\n",
       "      <td>Cardio Equipment</td>\n",
       "      <td>other</td>\n",
       "      <td>4.0</td>\n",
       "      <td>₹299</td>\n",
       "      <td>₹999</td>\n",
       "      <td>RetailNet</td>\n",
       "      <td>NaN</td>\n",
       "    </tr>\n",
       "    <tr>\n",
       "      <th>600</th>\n",
       "      <td>Sports, Books and More</td>\n",
       "      <td>Food Essentials</td>\n",
       "      <td>Nuts and Dry Fruits</td>\n",
       "      <td>OPEN SECRET Snacks Combo | Nutty Cookies and N...</td>\n",
       "      <td>2.7</td>\n",
       "      <td>₹455</td>\n",
       "      <td>₹999</td>\n",
       "      <td>RetailNet</td>\n",
       "      <td>NaN</td>\n",
       "    </tr>\n",
       "    <tr>\n",
       "      <th>607</th>\n",
       "      <td>Sports, Books and More</td>\n",
       "      <td>Food Essentials</td>\n",
       "      <td>Nuts and Dry Fruits</td>\n",
       "      <td>HERBALIFE Weight Loss Combo pack Formula 1 + P...</td>\n",
       "      <td>4.0</td>\n",
       "      <td>₹2,710</td>\n",
       "      <td>₹4,476</td>\n",
       "      <td>RetailNet</td>\n",
       "      <td>NaN</td>\n",
       "    </tr>\n",
       "    <tr>\n",
       "      <th>681</th>\n",
       "      <td>Sports, Books and More</td>\n",
       "      <td>Food Essentials</td>\n",
       "      <td>Chocolates</td>\n",
       "      <td>other</td>\n",
       "      <td>4.0</td>\n",
       "      <td>₹299</td>\n",
       "      <td>₹999</td>\n",
       "      <td>RetailNet</td>\n",
       "      <td>NaN</td>\n",
       "    </tr>\n",
       "    <tr>\n",
       "      <th>...</th>\n",
       "      <td>...</td>\n",
       "      <td>...</td>\n",
       "      <td>...</td>\n",
       "      <td>...</td>\n",
       "      <td>...</td>\n",
       "      <td>...</td>\n",
       "      <td>...</td>\n",
       "      <td>...</td>\n",
       "      <td>...</td>\n",
       "    </tr>\n",
       "    <tr>\n",
       "      <th>11792</th>\n",
       "      <td>Home and Furniture</td>\n",
       "      <td>Home Lighting</td>\n",
       "      <td>Table Lamp</td>\n",
       "      <td>META White Table Lamp Table Lamp  (56 cm, White)</td>\n",
       "      <td>4.0</td>\n",
       "      <td>₹2,999</td>\n",
       "      <td>₹5,000</td>\n",
       "      <td>RetailNet</td>\n",
       "      <td>NaN</td>\n",
       "    </tr>\n",
       "    <tr>\n",
       "      <th>11817</th>\n",
       "      <td>Home and Furniture</td>\n",
       "      <td>Home Lighting</td>\n",
       "      <td>Ceiling Lamp</td>\n",
       "      <td>other</td>\n",
       "      <td>4.0</td>\n",
       "      <td>₹299</td>\n",
       "      <td>₹999</td>\n",
       "      <td>RetailNet</td>\n",
       "      <td>NaN</td>\n",
       "    </tr>\n",
       "    <tr>\n",
       "      <th>11882</th>\n",
       "      <td>Home and Furniture</td>\n",
       "      <td>Festive Decor and Gifts</td>\n",
       "      <td>Festive Decor and Gifts</td>\n",
       "      <td>SHANKAR PERFUMEERY WORKS Combo Pack - Aromatic...</td>\n",
       "      <td>4.1</td>\n",
       "      <td>₹275</td>\n",
       "      <td>₹999</td>\n",
       "      <td>RetailNet</td>\n",
       "      <td>NaN</td>\n",
       "    </tr>\n",
       "    <tr>\n",
       "      <th>11904</th>\n",
       "      <td>Home and Furniture</td>\n",
       "      <td>Festive Decor and Gifts</td>\n",
       "      <td>Festive Decor and Gifts</td>\n",
       "      <td>UNIBIC Season's Greetings|Christmas &amp; New Year...</td>\n",
       "      <td>3.6</td>\n",
       "      <td>₹599</td>\n",
       "      <td>₹999</td>\n",
       "      <td>RetailNet</td>\n",
       "      <td>NaN</td>\n",
       "    </tr>\n",
       "    <tr>\n",
       "      <th>12001</th>\n",
       "      <td>Home and Furniture</td>\n",
       "      <td>Pet Supplies</td>\n",
       "      <td>Fish and Aquatics</td>\n",
       "      <td>other</td>\n",
       "      <td>4.0</td>\n",
       "      <td>₹299</td>\n",
       "      <td>₹999</td>\n",
       "      <td>RetailNet</td>\n",
       "      <td>NaN</td>\n",
       "    </tr>\n",
       "  </tbody>\n",
       "</table>\n",
       "<p>214 rows × 9 columns</p>\n",
       "</div>"
      ],
      "text/plain": [
       "                   category_1               category_2  \\\n",
       "40     Sports, Books and More                   Sports   \n",
       "310    Sports, Books and More        Exercise Fitness    \n",
       "600    Sports, Books and More          Food Essentials   \n",
       "607    Sports, Books and More          Food Essentials   \n",
       "681    Sports, Books and More          Food Essentials   \n",
       "...                       ...                      ...   \n",
       "11792      Home and Furniture            Home Lighting   \n",
       "11817      Home and Furniture            Home Lighting   \n",
       "11882      Home and Furniture  Festive Decor and Gifts   \n",
       "11904      Home and Furniture  Festive Decor and Gifts   \n",
       "12001      Home and Furniture             Pet Supplies   \n",
       "\n",
       "                    category_3  \\\n",
       "40                  Badminton    \n",
       "310          Cardio Equipment    \n",
       "600       Nuts and Dry Fruits    \n",
       "607       Nuts and Dry Fruits    \n",
       "681                Chocolates    \n",
       "...                        ...   \n",
       "11792              Table Lamp    \n",
       "11817            Ceiling Lamp    \n",
       "11882  Festive Decor and Gifts   \n",
       "11904  Festive Decor and Gifts   \n",
       "12001       Fish and Aquatics    \n",
       "\n",
       "                                                   title  product_rating  \\\n",
       "40     VICTOO SPORTS VICTOO PROFESIONAL BADMINTON Bad...             3.8   \n",
       "310                                                other             4.0   \n",
       "600    OPEN SECRET Snacks Combo | Nutty Cookies and N...             2.7   \n",
       "607    HERBALIFE Weight Loss Combo pack Formula 1 + P...             4.0   \n",
       "681                                                other             4.0   \n",
       "...                                                  ...             ...   \n",
       "11792   META White Table Lamp Table Lamp  (56 cm, White)             4.0   \n",
       "11817                                              other             4.0   \n",
       "11882  SHANKAR PERFUMEERY WORKS Combo Pack - Aromatic...             4.1   \n",
       "11904  UNIBIC Season's Greetings|Christmas & New Year...             3.6   \n",
       "12001                                              other             4.0   \n",
       "\n",
       "      selling_price     mrp seller_name  seller_rating  \n",
       "40             ₹335    ₹600   RetailNet            NaN  \n",
       "310            ₹299    ₹999   RetailNet            NaN  \n",
       "600            ₹455    ₹999   RetailNet            NaN  \n",
       "607          ₹2,710  ₹4,476   RetailNet            NaN  \n",
       "681            ₹299    ₹999   RetailNet            NaN  \n",
       "...             ...     ...         ...            ...  \n",
       "11792        ₹2,999  ₹5,000   RetailNet            NaN  \n",
       "11817          ₹299    ₹999   RetailNet            NaN  \n",
       "11882          ₹275    ₹999   RetailNet            NaN  \n",
       "11904          ₹599    ₹999   RetailNet            NaN  \n",
       "12001          ₹299    ₹999   RetailNet            NaN  \n",
       "\n",
       "[214 rows x 9 columns]"
      ]
     },
     "execution_count": 34,
     "metadata": {},
     "output_type": "execute_result"
    }
   ],
   "source": [
    "df[df['seller_rating'].isnull()]"
   ]
  },
  {
   "cell_type": "code",
   "execution_count": 35,
   "id": "36b6ddd7",
   "metadata": {},
   "outputs": [
    {
     "data": {
      "text/plain": [
       "array([4.4, 4.7, 4.1, 4.8, 4.5, 4.3, nan, 4.9, 4.6, 5. , 3.5, 4.2, 4. ,\n",
       "       3.6, 3.9, 3. , 3.7, 3.4, 3.8, 3.2, 3.1, 3.3])"
      ]
     },
     "execution_count": 35,
     "metadata": {},
     "output_type": "execute_result"
    }
   ],
   "source": [
    "df.seller_rating.unique()"
   ]
  },
  {
   "cell_type": "code",
   "execution_count": 36,
   "id": "9f57a89c",
   "metadata": {},
   "outputs": [
    {
     "data": {
      "text/plain": [
       "0    4.8\n",
       "dtype: float64"
      ]
     },
     "execution_count": 36,
     "metadata": {},
     "output_type": "execute_result"
    }
   ],
   "source": [
    "df.seller_rating.mode()"
   ]
  },
  {
   "cell_type": "code",
   "execution_count": 37,
   "id": "155b1204",
   "metadata": {},
   "outputs": [],
   "source": [
    "df.seller_rating.fillna(4.8, inplace=True)"
   ]
  },
  {
   "cell_type": "markdown",
   "id": "45c36ff1",
   "metadata": {},
   "source": [
    "## Univariate analysis"
   ]
  },
  {
   "cell_type": "code",
   "execution_count": 38,
   "id": "24d14003",
   "metadata": {},
   "outputs": [
    {
     "data": {
      "text/plain": [
       "Women's wear              2422\n",
       "Men's wear                2360\n",
       "Bady and Kids             2338\n",
       "Home and Furniture        2120\n",
       "Sports, Books and More    1820\n",
       "Electronics                981\n",
       "Name: category_1, dtype: int64"
      ]
     },
     "execution_count": 38,
     "metadata": {},
     "output_type": "execute_result"
    }
   ],
   "source": [
    "df.category_1.value_counts()"
   ]
  },
  {
   "cell_type": "code",
   "execution_count": 39,
   "id": "c6973a5a",
   "metadata": {},
   "outputs": [
    {
     "data": {
      "image/png": "[encoded data removed]",
      "text/plain": [
       "<Figure size 576x576 with 1 Axes>"
      ]
     },
     "metadata": {},
     "output_type": "display_data"
    }
   ],
   "source": [
    "plt.figure(figsize=(8,8))\n",
    "\n",
    "allLables= [\"Women's wear\",\"Men's wear\",\"Body and Kids\",\"Home and Furniture\",\"Sports & Books\",\"Electronics\"]\n",
    "\n",
    "plt.pie(df.category_1.value_counts(),labels=allLables, autopct='%0.1f%%',wedgeprops={'edgecolor':'white'},textprops={'size':12})\n",
    "\n",
    "plt.title('category_1\\n',size=20)\n",
    "plt.show()"
   ]
  },
  {
   "cell_type": "markdown",
   "id": "5565a639",
   "metadata": {},
   "source": [
    "### Observation is that women's Wear is the top from all category with(20.1%), followed by men's wear with(19.6%) and after Boys and Kids with(19.4%)"
   ]
  },
  {
   "cell_type": "code",
   "execution_count": 40,
   "id": "4e8e6507",
   "metadata": {},
   "outputs": [
    {
     "data": {
      "image/png": "[encoded data removed]",
      "text/plain": [
       "<Figure size 1080x576 with 1 Axes>"
      ]
     },
     "metadata": {
      "needs_background": "light"
     },
     "output_type": "display_data"
    }
   ],
   "source": [
    "plt.figure(figsize=(15,8))\n",
    "\n",
    "Value= df.category_3.value_counts()[0:10]\n",
    "\n",
    "g= sns.barplot(x=Value.index, y=Value.values, data=df, palette='tab10')\n",
    "\n",
    "for i in range(10):\n",
    "    val=Value[i]\n",
    "    g.text(y=val,x=i , s= val, fontsize=12)\n",
    "\n",
    "plt.title('Top 10 Products\\n', color='Purple', size=20)\n",
    "plt.xticks(rotation=45)\n",
    "plt.show()"
   ]
  },
  {
   "cell_type": "code",
   "execution_count": 41,
   "id": "bd15782e",
   "metadata": {},
   "outputs": [
    {
     "data": {
      "image/png": "[encoded data removed]",
      "text/plain": [
       "<Figure size 1440x720 with 1 Axes>"
      ]
     },
     "metadata": {
      "needs_background": "light"
     },
     "output_type": "display_data"
    }
   ],
   "source": [
    "plt.figure(figsize=(20,10))\n",
    "\n",
    "Value= df.seller_name.value_counts()[0:10]\n",
    "\n",
    "g= sns.barplot(x=Value.index, y=Value.values, data=df, palette='Paired')\n",
    "\n",
    "for i in range(10):\n",
    "    val=Value[i]\n",
    "    g.text(y=val, x=i , s= val, fontsize=12)\n",
    "\n",
    "plt.title('Top 10 Sellers\\n', color='Red', size=20)\n",
    "plt.xticks(rotation=45)\n",
    "plt.show()"
   ]
  },
  {
   "cell_type": "markdown",
   "id": "aba228f7",
   "metadata": {},
   "source": [
    "### From the barplot we can observe that \"RetailNet\" is the top seller with 817, after that \"SuperComeNet\" with 266 and \"MYTHANGLORYRetail\" with 258 and so on."
   ]
  },
  {
   "cell_type": "code",
   "execution_count": 42,
   "id": "b093344d",
   "metadata": {},
   "outputs": [
    {
     "data": {
      "text/plain": [
       "4.8    1779\n",
       "4.7    1382\n",
       "4.4    1241\n",
       "4.9    1097\n",
       "4.3     957\n",
       "4.6     956\n",
       "4.1     917\n",
       "4.2     796\n",
       "3.9     582\n",
       "4.0     544\n",
       "Name: seller_rating, dtype: int64"
      ]
     },
     "execution_count": 42,
     "metadata": {},
     "output_type": "execute_result"
    }
   ],
   "source": [
    "df.seller_rating.value_counts().head(10)"
   ]
  },
  {
   "cell_type": "code",
   "execution_count": 43,
   "id": "324a0c41",
   "metadata": {},
   "outputs": [
    {
     "data": {
      "image/png": "[encoded data removed]",
      "text/plain": [
       "<Figure size 1440x576 with 1 Axes>"
      ]
     },
     "metadata": {
      "needs_background": "light"
     },
     "output_type": "display_data"
    }
   ],
   "source": [
    "plt.figure(figsize=(20,8))\n",
    "\n",
    "Value=(df.seller_rating.value_counts().head(10))\n",
    "g=sns.barplot(x=Value.index, y=Value.values, data=df, palette='rocket_r')\n",
    "plt.title('Top rating\\n', color='Red', size=20)\n",
    "plt.show()"
   ]
  },
  {
   "cell_type": "markdown",
   "id": "c94ba2c3",
   "metadata": {},
   "source": [
    "### Ratings from 4.4 to 4.9 are the most given ratings.\n"
   ]
  },
  {
   "cell_type": "markdown",
   "id": "46e262ea",
   "metadata": {},
   "source": [
    "# Bivariate alaysis"
   ]
  },
  {
   "cell_type": "code",
   "execution_count": 44,
   "id": "4ac3ec8e",
   "metadata": {},
   "outputs": [
    {
     "data": {
      "text/plain": [
       "0        ₹4,000\n",
       "1          ₹600\n",
       "2          ₹199\n",
       "3          ₹299\n",
       "4        ₹1,399\n",
       "          ...  \n",
       "12036      ₹999\n",
       "12037      ₹299\n",
       "12038      ₹600\n",
       "12039      ₹599\n",
       "12040      ₹399\n",
       "Name: mrp, Length: 12041, dtype: object"
      ]
     },
     "execution_count": 44,
     "metadata": {},
     "output_type": "execute_result"
    }
   ],
   "source": [
    "df.mrp"
   ]
  },
  {
   "cell_type": "code",
   "execution_count": 45,
   "id": "8ad15187",
   "metadata": {},
   "outputs": [],
   "source": [
    "def remove_char(val):\n",
    "    return(int(val.replace('₹','').replace(',','')))"
   ]
  },
  {
   "cell_type": "code",
   "execution_count": 46,
   "id": "1499c490",
   "metadata": {},
   "outputs": [
    {
     "data": {
      "text/plain": [
       "0        4000\n",
       "1         600\n",
       "2         199\n",
       "3         299\n",
       "4        1399\n",
       "         ... \n",
       "12036     999\n",
       "12037     299\n",
       "12038     600\n",
       "12039     599\n",
       "12040     399\n",
       "Name: mrp, Length: 12041, dtype: int64"
      ]
     },
     "execution_count": 46,
     "metadata": {},
     "output_type": "execute_result"
    }
   ],
   "source": [
    "df.mrp= df.mrp.map(remove_char)\n",
    "df.mrp"
   ]
  },
  {
   "cell_type": "code",
   "execution_count": 47,
   "id": "1cb3f0a1",
   "metadata": {},
   "outputs": [
    {
     "data": {
      "text/plain": [
       "0        1615\n",
       "1         152\n",
       "2          59\n",
       "3          75\n",
       "4         329\n",
       "         ... \n",
       "12036     380\n",
       "12037     179\n",
       "12038     354\n",
       "12039     498\n",
       "12040     239\n",
       "Name: selling_price, Length: 12041, dtype: int64"
      ]
     },
     "execution_count": 47,
     "metadata": {},
     "output_type": "execute_result"
    }
   ],
   "source": [
    "df.selling_price= df.selling_price.map(remove_char)\n",
    "df.selling_price"
   ]
  },
  {
   "cell_type": "code",
   "execution_count": 48,
   "id": "ff76fcde",
   "metadata": {},
   "outputs": [
    {
     "data": {
      "image/png": "[encoded data removed]",
      "text/plain": [
       "<Figure size 720x360 with 1 Axes>"
      ]
     },
     "metadata": {
      "needs_background": "light"
     },
     "output_type": "display_data"
    }
   ],
   "source": [
    "plt.figure(figsize=(10,5))\n",
    "sns.barplot(x='category_1',y='product_rating',data= df)\n",
    "plt.title('Category_1 Vs Product_rating', color='Red', size=20)\n",
    "plt.xticks(rotation=45)\n",
    "plt.show()"
   ]
  },
  {
   "cell_type": "code",
   "execution_count": 49,
   "id": "54e024e2",
   "metadata": {},
   "outputs": [
    {
     "data": {
      "text/plain": [
       "category_3\n",
       "Gaming Laptops                 300490\n",
       "Lens                           199690\n",
       "Desktop PCs                    189990\n",
       "DSLR and Mirrorless             97995\n",
       "Coins and Bars                  85360\n",
       "Industrial Testing Devices      85000\n",
       "Cardio Equipment                69999\n",
       "Apple Ipads                     68079\n",
       "Gaming Consoles                 55990\n",
       "Gaming and Accessories          54890\n",
       "Name: selling_price, dtype: int64"
      ]
     },
     "execution_count": 49,
     "metadata": {},
     "output_type": "execute_result"
    }
   ],
   "source": [
    "selling=df.groupby(['category_3'])['selling_price'].agg(max).sort_values(ascending=False).head(10)\n",
    "selling"
   ]
  },
  {
   "cell_type": "code",
   "execution_count": 50,
   "id": "39c4369d",
   "metadata": {},
   "outputs": [
    {
     "data": {
      "image/png": "[encoded data removed]",
      "text/plain": [
       "<Figure size 1080x576 with 1 Axes>"
      ]
     },
     "metadata": {
      "needs_background": "light"
     },
     "output_type": "display_data"
    }
   ],
   "source": [
    "plt.figure(figsize=(15,8))\n",
    "\n",
    "selling=df.groupby(['category_3'])['selling_price'].agg(max).sort_values(ascending=False).head(10)\n",
    "\n",
    "\n",
    "G= sns.barplot(x=selling.index,y=selling.values,palette='tab10')\n",
    "for i in range(10):\n",
    "    value=selling[i]\n",
    "\n",
    "    G.text(y=value, x=i , s= value, fontsize=15)\n",
    "\n",
    "G.set_xlabel('Product',fontsize=15)    \n",
    "G.set_ylabel('Selling Price',fontsize=15)\n",
    "G.set_title('Top 10 Products with Heighest Selling Price\\n',color='Red',fontsize=20)\n",
    "plt.xticks(rotation=45)\n",
    "plt.show()    \n"
   ]
  },
  {
   "cell_type": "markdown",
   "id": "cfc690c9",
   "metadata": {},
   "source": [
    "### Gaming laptops are the top selling product with highest selling price."
   ]
  },
  {
   "cell_type": "code",
   "execution_count": 51,
   "id": "2808377a",
   "metadata": {},
   "outputs": [
    {
     "data": {
      "image/png": "[encoded data removed]",
      "text/plain": [
       "<Figure size 1080x576 with 1 Axes>"
      ]
     },
     "metadata": {
      "needs_background": "light"
     },
     "output_type": "display_data"
    }
   ],
   "source": [
    "plt.figure(figsize=(15,8))\n",
    "\n",
    "selling=df.groupby(['category_3'])['mrp'].agg(max).sort_values(ascending=False).head(10)\n",
    "\n",
    "\n",
    "G= sns.barplot(x=selling.index,y=selling.values,palette='rocket')\n",
    "for i in range(10):\n",
    "    value=selling[i]\n",
    "\n",
    "    G.text(y=value , x=i , s= value, fontsize=15)\n",
    "\n",
    "G.set_xlabel('Product',fontsize=15)    \n",
    "G.set_ylabel('MRP',fontsize=15)\n",
    "G.set_title('Top 10 Products with Heighest MRP\\n',color='Red',fontsize=20)\n",
    "plt.xticks(rotation=45)\n",
    "plt.show()    "
   ]
  },
  {
   "cell_type": "markdown",
   "id": "24f5471c",
   "metadata": {},
   "source": [
    "### Gaming laptops are the top selling product with highest MRP."
   ]
  },
  {
   "cell_type": "code",
   "execution_count": 52,
   "id": "9ffdfbec",
   "metadata": {},
   "outputs": [
    {
     "data": {
      "image/png": "[encoded data removed]",
      "text/plain": [
       "<Figure size 1080x360 with 1 Axes>"
      ]
     },
     "metadata": {
      "needs_background": "light"
     },
     "output_type": "display_data"
    }
   ],
   "source": [
    "plt.figure(figsize=(15,5))\n",
    "\n",
    "selling=df.groupby(['category_3'])['product_rating'].agg(max).sort_values(ascending=False).head(10)\n",
    "\n",
    "\n",
    "G= sns.barplot(x=selling.index,y=selling.values,palette='tab10')\n",
    "for i in range(10):\n",
    "    value=selling[i]\n",
    "\n",
    "    G.text(y=value, x=i , s= value, fontsize=15)\n",
    "\n",
    "G.set_xlabel('Product',fontsize=15)    \n",
    "G.set_ylabel('Product_rating',fontsize=15)\n",
    "G.set_title('Top 10 Products with Heighest Product_rating\\n',color='Red',fontsize=20)\n",
    "plt.xticks(rotation=45)\n",
    "plt.show()    "
   ]
  },
  {
   "cell_type": "code",
   "execution_count": 53,
   "id": "65e55b03",
   "metadata": {},
   "outputs": [
    {
     "data": {
      "image/png": "[encoded data removed]",
      "text/plain": [
       "<Figure size 1080x360 with 1 Axes>"
      ]
     },
     "metadata": {
      "needs_background": "light"
     },
     "output_type": "display_data"
    }
   ],
   "source": [
    "plt.figure(figsize=(15,5))\n",
    "\n",
    "selling=df.groupby(['seller_name'])['seller_rating'].agg(max).sort_values(ascending=False).head(10)\n",
    "\n",
    "\n",
    "G= sns.barplot(x=selling.index,y=selling.values,palette='tab10')\n",
    "for i in range(10):\n",
    "    value=selling[i]\n",
    "\n",
    "    G.text(y=value, x=i , s= value, fontsize=15)\n",
    "\n",
    "G.set_xlabel('Seller_name',fontsize=12)    \n",
    "G.set_ylabel('Seller_rating',fontsize=12)\n",
    "G.set_title('Top 10 seller compare to rating\\n',color='Red',fontsize=20)\n",
    "plt.xticks(rotation=45)\n",
    "plt.show()    "
   ]
  }
 ],
 "metadata": {
  "kernelspec": {
   "display_name": "Python 3 (ipykernel)",
   "language": "python",
   "name": "python3"
  },
  "language_info": {
   "codemirror_mode": {
    "name": "ipython",
    "version": 3
   },
   "file_extension": ".py",
   "mimetype": "text/x-python",
   "name": "python",
   "nbconvert_exporter": "python",
   "pygments_lexer": "ipython3",
   "version": "3.9.7"
  }
 },
 "nbformat": 4,
 "nbformat_minor": 5
}
